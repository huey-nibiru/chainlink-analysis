{
 "cells": [
  {
   "cell_type": "code",
   "execution_count": 13,
   "metadata": {},
   "outputs": [
    {
     "name": "stderr",
     "output_type": "stream",
     "text": [
      "Matplotlib created a temporary config/cache directory at /var/folders/fm/gf09nxpx12n_7pcjsnlx5yt00000gn/T/matplotlib-ahrukz_7 because the default path (/Users/Yousefmacer/.matplotlib) is not a writable directory; it is highly recommended to set the MPLCONFIGDIR environment variable to a writable directory, in particular to speed up the import of Matplotlib and to better support multiprocessing.\n",
      "Fontconfig warning: ignoring UTF-8: not a valid region tag\n"
     ]
    }
   ],
   "source": [
    "import pandas as pd\n",
    "import matplotlib.pyplot as plt\n",
    "from os import system"
   ]
  },
  {
   "cell_type": "code",
   "execution_count": 9,
   "metadata": {},
   "outputs": [
    {
     "data": {
      "text/html": [
       "<div>\n",
       "<style scoped>\n",
       "    .dataframe tbody tr th:only-of-type {\n",
       "        vertical-align: middle;\n",
       "    }\n",
       "\n",
       "    .dataframe tbody tr th {\n",
       "        vertical-align: top;\n",
       "    }\n",
       "\n",
       "    .dataframe thead th {\n",
       "        text-align: right;\n",
       "    }\n",
       "</style>\n",
       "<table border=\"1\" class=\"dataframe\">\n",
       "  <thead>\n",
       "    <tr style=\"text-align: right;\">\n",
       "      <th></th>\n",
       "      <th>name</th>\n",
       "      <th>status</th>\n",
       "      <th>chains</th>\n",
       "      <th>category</th>\n",
       "      <th>integrations</th>\n",
       "      <th>year</th>\n",
       "    </tr>\n",
       "  </thead>\n",
       "  <tbody>\n",
       "    <tr>\n",
       "      <th>0</th>\n",
       "      <td>stablr</td>\n",
       "      <td>live</td>\n",
       "      <td>[ethereum]</td>\n",
       "      <td>cefi</td>\n",
       "      <td>[proof of reserve]</td>\n",
       "      <td>2022</td>\n",
       "    </tr>\n",
       "    <tr>\n",
       "      <th>1</th>\n",
       "      <td>huobi</td>\n",
       "      <td>live</td>\n",
       "      <td>[ethereum]</td>\n",
       "      <td>node operator</td>\n",
       "      <td>[node, proof of reserve]</td>\n",
       "      <td>2020</td>\n",
       "    </tr>\n",
       "    <tr>\n",
       "      <th>2</th>\n",
       "      <td>tollan worlds</td>\n",
       "      <td>live</td>\n",
       "      <td>[polygon]</td>\n",
       "      <td>gaming</td>\n",
       "      <td>[vrf]</td>\n",
       "      <td>2022</td>\n",
       "    </tr>\n",
       "    <tr>\n",
       "      <th>3</th>\n",
       "      <td>autobet</td>\n",
       "      <td>live</td>\n",
       "      <td>[polygon]</td>\n",
       "      <td>gaming</td>\n",
       "      <td>[automation, vrf]</td>\n",
       "      <td>2022</td>\n",
       "    </tr>\n",
       "    <tr>\n",
       "      <th>4</th>\n",
       "      <td>sonne finance</td>\n",
       "      <td>live</td>\n",
       "      <td>[optimism]</td>\n",
       "      <td>marketing</td>\n",
       "      <td>[data feeds]</td>\n",
       "      <td>2022</td>\n",
       "    </tr>\n",
       "    <tr>\n",
       "      <th>5</th>\n",
       "      <td>mrhb</td>\n",
       "      <td>live</td>\n",
       "      <td>[ethereum]</td>\n",
       "      <td>dex</td>\n",
       "      <td>[data feeds]</td>\n",
       "      <td>2022</td>\n",
       "    </tr>\n",
       "    <tr>\n",
       "      <th>6</th>\n",
       "      <td>realtize</td>\n",
       "      <td>live</td>\n",
       "      <td>[bnb chain, ethereum]</td>\n",
       "      <td>protocol</td>\n",
       "      <td>[any api]</td>\n",
       "      <td>2022</td>\n",
       "    </tr>\n",
       "    <tr>\n",
       "      <th>7</th>\n",
       "      <td>gobetty</td>\n",
       "      <td>live</td>\n",
       "      <td>[bnb chain]</td>\n",
       "      <td>nft</td>\n",
       "      <td>[vrf]</td>\n",
       "      <td>2022</td>\n",
       "    </tr>\n",
       "    <tr>\n",
       "      <th>8</th>\n",
       "      <td>aidi finance</td>\n",
       "      <td>live</td>\n",
       "      <td>[polygon]</td>\n",
       "      <td>nft</td>\n",
       "      <td>[data feeds]</td>\n",
       "      <td>2022</td>\n",
       "    </tr>\n",
       "    <tr>\n",
       "      <th>9</th>\n",
       "      <td>landvault</td>\n",
       "      <td>live</td>\n",
       "      <td>[]</td>\n",
       "      <td>metaverse</td>\n",
       "      <td>[data feeds]</td>\n",
       "      <td>2022</td>\n",
       "    </tr>\n",
       "  </tbody>\n",
       "</table>\n",
       "</div>"
      ],
      "text/plain": [
       "            name status                 chains       category  \\\n",
       "0         stablr   live             [ethereum]           cefi   \n",
       "1          huobi   live             [ethereum]  node operator   \n",
       "2  tollan worlds   live              [polygon]         gaming   \n",
       "3        autobet   live              [polygon]         gaming   \n",
       "4  sonne finance   live             [optimism]      marketing   \n",
       "5           mrhb   live             [ethereum]            dex   \n",
       "6       realtize   live  [bnb chain, ethereum]       protocol   \n",
       "7        gobetty   live            [bnb chain]            nft   \n",
       "8   aidi finance   live              [polygon]            nft   \n",
       "9      landvault   live                     []      metaverse   \n",
       "\n",
       "               integrations  year  \n",
       "0        [proof of reserve]  2022  \n",
       "1  [node, proof of reserve]  2020  \n",
       "2                     [vrf]  2022  \n",
       "3         [automation, vrf]  2022  \n",
       "4              [data feeds]  2022  \n",
       "5              [data feeds]  2022  \n",
       "6                 [any api]  2022  \n",
       "7                     [vrf]  2022  \n",
       "8              [data feeds]  2022  \n",
       "9              [data feeds]  2022  "
      ]
     },
     "execution_count": 9,
     "metadata": {},
     "output_type": "execute_result"
    }
   ],
   "source": [
    "df = pd.read_json('chainlink/link_partnerships.json')\n",
    "df.head(10)"
   ]
  },
  {
   "cell_type": "code",
   "execution_count": 7,
   "metadata": {},
   "outputs": [
    {
     "name": "stdout",
     "output_type": "stream",
     "text": [
      "<class 'pandas.core.frame.DataFrame'>\n",
      "RangeIndex: 1610 entries, 0 to 1609\n",
      "Data columns (total 6 columns):\n",
      " #   Column        Non-Null Count  Dtype \n",
      "---  ------        --------------  ----- \n",
      " 0   name          1610 non-null   object\n",
      " 1   status        1610 non-null   object\n",
      " 2   chains        1610 non-null   object\n",
      " 3   category      1599 non-null   object\n",
      " 4   integrations  1610 non-null   object\n",
      " 5   year          1610 non-null   int64 \n",
      "dtypes: int64(1), object(5)\n",
      "memory usage: 75.6+ KB\n"
     ]
    }
   ],
   "source": [
    "df.info()"
   ]
  },
  {
   "cell_type": "code",
   "execution_count": 10,
   "metadata": {},
   "outputs": [],
   "source": [
    "df['num_integrations'] = df['integrations'].apply(lambda x: len(x))\n",
    "df['num_chains'] = df['chains'].apply(lambda x: len(x))\n",
    "new_df = df[['name','category','num_chains', 'num_integrations', 'year']].copy()"
   ]
  },
  {
   "cell_type": "code",
   "execution_count": 11,
   "metadata": {},
   "outputs": [
    {
     "data": {
      "text/html": [
       "<div>\n",
       "<style scoped>\n",
       "    .dataframe tbody tr th:only-of-type {\n",
       "        vertical-align: middle;\n",
       "    }\n",
       "\n",
       "    .dataframe tbody tr th {\n",
       "        vertical-align: top;\n",
       "    }\n",
       "\n",
       "    .dataframe thead th {\n",
       "        text-align: right;\n",
       "    }\n",
       "</style>\n",
       "<table border=\"1\" class=\"dataframe\">\n",
       "  <thead>\n",
       "    <tr style=\"text-align: right;\">\n",
       "      <th></th>\n",
       "      <th>name</th>\n",
       "      <th>category</th>\n",
       "      <th>num_chains</th>\n",
       "      <th>num_integrations</th>\n",
       "      <th>year</th>\n",
       "    </tr>\n",
       "  </thead>\n",
       "  <tbody>\n",
       "    <tr>\n",
       "      <th>0</th>\n",
       "      <td>stablr</td>\n",
       "      <td>cefi</td>\n",
       "      <td>1</td>\n",
       "      <td>1</td>\n",
       "      <td>2022</td>\n",
       "    </tr>\n",
       "    <tr>\n",
       "      <th>1</th>\n",
       "      <td>huobi</td>\n",
       "      <td>node operator</td>\n",
       "      <td>1</td>\n",
       "      <td>2</td>\n",
       "      <td>2020</td>\n",
       "    </tr>\n",
       "    <tr>\n",
       "      <th>2</th>\n",
       "      <td>tollan worlds</td>\n",
       "      <td>gaming</td>\n",
       "      <td>1</td>\n",
       "      <td>1</td>\n",
       "      <td>2022</td>\n",
       "    </tr>\n",
       "    <tr>\n",
       "      <th>3</th>\n",
       "      <td>autobet</td>\n",
       "      <td>gaming</td>\n",
       "      <td>1</td>\n",
       "      <td>2</td>\n",
       "      <td>2022</td>\n",
       "    </tr>\n",
       "    <tr>\n",
       "      <th>4</th>\n",
       "      <td>sonne finance</td>\n",
       "      <td>marketing</td>\n",
       "      <td>1</td>\n",
       "      <td>1</td>\n",
       "      <td>2022</td>\n",
       "    </tr>\n",
       "    <tr>\n",
       "      <th>...</th>\n",
       "      <td>...</td>\n",
       "      <td>...</td>\n",
       "      <td>...</td>\n",
       "      <td>...</td>\n",
       "      <td>...</td>\n",
       "    </tr>\n",
       "    <tr>\n",
       "      <th>1605</th>\n",
       "      <td>openlaw</td>\n",
       "      <td>consortium</td>\n",
       "      <td>1</td>\n",
       "      <td>1</td>\n",
       "      <td>2018</td>\n",
       "    </tr>\n",
       "    <tr>\n",
       "      <th>1606</th>\n",
       "      <td>clintex</td>\n",
       "      <td>blockchain</td>\n",
       "      <td>1</td>\n",
       "      <td>1</td>\n",
       "      <td>2018</td>\n",
       "    </tr>\n",
       "    <tr>\n",
       "      <th>1607</th>\n",
       "      <td>ic3</td>\n",
       "      <td>consortium</td>\n",
       "      <td>1</td>\n",
       "      <td>0</td>\n",
       "      <td>2018</td>\n",
       "    </tr>\n",
       "    <tr>\n",
       "      <th>1608</th>\n",
       "      <td>zeppelinos</td>\n",
       "      <td>developer tool</td>\n",
       "      <td>1</td>\n",
       "      <td>1</td>\n",
       "      <td>2017</td>\n",
       "    </tr>\n",
       "    <tr>\n",
       "      <th>1609</th>\n",
       "      <td>scorefam</td>\n",
       "      <td>defi</td>\n",
       "      <td>1</td>\n",
       "      <td>1</td>\n",
       "      <td>2022</td>\n",
       "    </tr>\n",
       "  </tbody>\n",
       "</table>\n",
       "<p>1610 rows × 5 columns</p>\n",
       "</div>"
      ],
      "text/plain": [
       "               name        category  num_chains  num_integrations  year\n",
       "0            stablr            cefi           1                 1  2022\n",
       "1             huobi   node operator           1                 2  2020\n",
       "2     tollan worlds          gaming           1                 1  2022\n",
       "3           autobet          gaming           1                 2  2022\n",
       "4     sonne finance       marketing           1                 1  2022\n",
       "...             ...             ...         ...               ...   ...\n",
       "1605        openlaw      consortium           1                 1  2018\n",
       "1606        clintex      blockchain           1                 1  2018\n",
       "1607            ic3      consortium           1                 0  2018\n",
       "1608     zeppelinos  developer tool           1                 1  2017\n",
       "1609       scorefam            defi           1                 1  2022\n",
       "\n",
       "[1610 rows x 5 columns]"
      ]
     },
     "execution_count": 11,
     "metadata": {},
     "output_type": "execute_result"
    }
   ],
   "source": [
    "new_df"
   ]
  },
  {
   "cell_type": "code",
   "execution_count": 18,
   "metadata": {},
   "outputs": [
    {
     "data": {
      "text/plain": [
       "'\\n# Create the plot\\nplt.bar(df[\\'year\\'], df[\\'category\\'])\\ndf[\\'year\\'] = df[\\'year\\'].astype(str)\\ndf[\\'category\\'] = df[\\'category\\'].astype(str)\\ndf = df.fillna(\"null\")\\n\\n\\n# Show the plot\\nplt.show()\\n'"
      ]
     },
     "execution_count": 18,
     "metadata": {},
     "output_type": "execute_result"
    }
   ],
   "source": [
    "'''\n",
    "# Create the plot\n",
    "plt.bar(df['year'], df['category'])\n",
    "df['year'] = df['year'].astype(str)\n",
    "df['category'] = df['category'].astype(str)\n",
    "df = df.fillna(\"null\")\n",
    "\n",
    "\n",
    "# Show the plot\n",
    "plt.show()\n",
    "'''"
   ]
  },
  {
   "cell_type": "code",
   "execution_count": 45,
   "metadata": {},
   "outputs": [
    {
     "data": {
      "text/plain": [
       "{'cefi': 5,\n",
       " 'node operator': 73,\n",
       " 'gaming': 139,\n",
       " 'marketing': 7,\n",
       " 'dex': 41,\n",
       " 'protocol': 20,\n",
       " 'nft': 383,\n",
       " 'metaverse': 9,\n",
       " 'monetisation': 3,\n",
       " 'defi': 536,\n",
       " 'build program': 8,\n",
       " 'data provider': 49,\n",
       " 'insurance': 15,\n",
       " 'carbon credits': 2,\n",
       " 'blockchain': 93,\n",
       " 'play to earn': 32,\n",
       " 'compliance': 4,\n",
       " 'payments': 19,\n",
       " 'dao': 12,\n",
       " 'grants': 28,\n",
       " 'storage': 5,\n",
       " 'enterprise': 10,\n",
       " 'launchpad': 21,\n",
       " 'health': 3,\n",
       " 'social': 8,\n",
       " 'infrastructure': 24,\n",
       " 'credentials': 7,\n",
       " 'ai': 3,\n",
       " 'ecommerce': 1,\n",
       " 'auctions': 1,\n",
       " 'education': 1,\n",
       " 'real estate': 5,\n",
       " 'social impact': 2,\n",
       " 'video': 1,\n",
       " 'sports': 3,\n",
       " 'security': 1,\n",
       " 'privacy': 1,\n",
       " 'research': 1,\n",
       " 'collaboration': 6,\n",
       " 'developer tool': 7,\n",
       " 'iot': 1,\n",
       " 'ticketing': 2,\n",
       " 'energy': 1,\n",
       " 'consortium': 5,\n",
       " 'reputation': 1}"
      ]
     },
     "execution_count": 45,
     "metadata": {},
     "output_type": "execute_result"
    }
   ],
   "source": [
    "unique_values = df['category'].unique()\n",
    "data = {}\n",
    "count=0\n",
    "for c in df[\"category\"]:\n",
    "    if c is None:\n",
    "        pass\n",
    "    elif c not in data:\n",
    "        data[c] = 1\n",
    "    else:\n",
    "        data[c]+=1\n",
    "    "
   ]
  },
  {
   "cell_type": "code",
   "execution_count": 46,
   "metadata": {},
   "outputs": [
    {
     "data": {
      "text/plain": [
       "{'cefi': 5,\n",
       " 'node operator': 73,\n",
       " 'gaming': 139,\n",
       " 'marketing': 7,\n",
       " 'dex': 41,\n",
       " 'protocol': 20,\n",
       " 'nft': 383,\n",
       " 'metaverse': 9,\n",
       " 'monetisation': 3,\n",
       " 'defi': 536,\n",
       " 'build program': 8,\n",
       " 'data provider': 49,\n",
       " 'insurance': 15,\n",
       " 'carbon credits': 2,\n",
       " 'blockchain': 93,\n",
       " 'play to earn': 32,\n",
       " 'compliance': 4,\n",
       " 'payments': 19,\n",
       " 'dao': 12,\n",
       " 'grants': 28,\n",
       " 'storage': 5,\n",
       " 'enterprise': 10,\n",
       " 'launchpad': 21,\n",
       " 'health': 3,\n",
       " 'social': 8,\n",
       " 'infrastructure': 24,\n",
       " 'credentials': 7,\n",
       " 'ai': 3,\n",
       " 'ecommerce': 1,\n",
       " 'auctions': 1,\n",
       " 'education': 1,\n",
       " 'real estate': 5,\n",
       " 'social impact': 2,\n",
       " 'video': 1,\n",
       " 'sports': 3,\n",
       " 'security': 1,\n",
       " 'privacy': 1,\n",
       " 'research': 1,\n",
       " 'collaboration': 6,\n",
       " 'developer tool': 7,\n",
       " 'iot': 1,\n",
       " 'ticketing': 2,\n",
       " 'energy': 1,\n",
       " 'consortium': 5,\n",
       " 'reputation': 1}"
      ]
     },
     "execution_count": 46,
     "metadata": {},
     "output_type": "execute_result"
    }
   ],
   "source": [
    "sorted_data = sorted(data.items(), key=lambda x: x[1])\n",
    "\n",
    "data"
   ]
  },
  {
   "cell_type": "code",
   "execution_count": 47,
   "metadata": {},
   "outputs": [
    {
     "data": {
      "text/plain": [
       "Text(0, 0.5, 'Values')"
      ]
     },
     "execution_count": 47,
     "metadata": {},
     "output_type": "execute_result"
    },
    {
     "data": {
      "image/png": "[encoded data removed]",
      "text/plain": [
       "<Figure size 432x288 with 1 Axes>"
      ]
     },
     "metadata": {
      "needs_background": "light"
     },
     "output_type": "display_data"
    }
   ],
   "source": [
    "\n",
    "# Extract the categories and values\n",
    "categories = list(data.keys())\n",
    "values = list(data.values())\n",
    "\n",
    "# Create the plot\n",
    "plt.bar(categories, values)\n",
    "\n",
    "# Add a title and labels for the x and y axes\n",
    "plt.title('Categories vs Values')\n",
    "plt.xlabel('Categories')\n",
    "plt.ylabel('Values')\n",
    "\n"
   ]
  },
  {
   "cell_type": "code",
   "execution_count": null,
   "metadata": {},
   "outputs": [],
   "source": []
  }
 ],
 "metadata": {
  "kernelspec": {
   "display_name": "Python 3",
   "language": "python",
   "name": "python3"
  },
  "language_info": {
   "codemirror_mode": {
    "name": "ipython",
    "version": 3
   },
   "file_extension": ".py",
   "mimetype": "text/x-python",
   "name": "python",
   "nbconvert_exporter": "python",
   "pygments_lexer": "ipython3",
   "version": "3.10.0"
  },
  "orig_nbformat": 4,
  "vscode": {
   "interpreter": {
    "hash": "aee8b7b246df8f9039afb4144a1f6fd8d2ca17a180786b69acc140d282b71a49"
   }
  }
 },
 "nbformat": 4,
 "nbformat_minor": 2
}
