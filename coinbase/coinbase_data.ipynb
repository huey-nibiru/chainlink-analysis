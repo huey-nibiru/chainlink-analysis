{
 "cells": [
  {
   "cell_type": "code",
   "execution_count": 2,
   "metadata": {},
   "outputs": [],
   "source": [
    "api_key = \"abRJTjZ5f940NqDm\"\n",
    "api_secret = \"iZUizAftYAExBKIFktworjDksAWajsHU\""
   ]
  },
  {
   "cell_type": "code",
   "execution_count": 5,
   "metadata": {},
   "outputs": [
    {
     "name": "stdout",
     "output_type": "stream",
     "text": [
      "Current link price in USD: 17052.66\n"
     ]
    }
   ],
   "source": [
    "from coinbase.wallet.client import Client\n",
    "\n",
    "client = Client(api_key, api_secret, api_version='202-01-01')\n",
    "\n",
    "currency_code = 'USD'  # can also use EUR, CAD, etc.\n",
    "\n",
    "# Make the request\n",
    "price = client.get_spot_price(currency=currency_code)\n",
    "\n",
    "print('Current link price in %s: %s' % (currency_code, price.amount))"
   ]
  }
 ],
 "metadata": {
  "kernelspec": {
   "display_name": "Python 3.10.0 ('venv': venv)",
   "language": "python",
   "name": "python3"
  },
  "language_info": {
   "codemirror_mode": {
    "name": "ipython",
    "version": 3
   },
   "file_extension": ".py",
   "mimetype": "text/x-python",
   "name": "python",
   "nbconvert_exporter": "python",
   "pygments_lexer": "ipython3",
   "version": "3.10.0"
  },
  "orig_nbformat": 4,
  "vscode": {
   "interpreter": {
    "hash": "c5dbd030776ff28ad3ffb4f5647e8927953b02beb510527ea64cb3c307ee9845"
   }
  }
 },
 "nbformat": 4,
 "nbformat_minor": 2
}
