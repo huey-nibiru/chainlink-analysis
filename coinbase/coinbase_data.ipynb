{
 "cells": [
  {
   "cell_type": "code",
   "execution_count": 146,
   "metadata": {},
   "outputs": [],
   "source": [
    "from coinbase.wallet.client import Client\n",
    "import pandas as pd\n",
    "import requests\n",
    "from datetime import datetime as dt, timedelta"
   ]
  },
  {
   "cell_type": "code",
   "execution_count": 147,
   "metadata": {},
   "outputs": [],
   "source": [
    "api_key = \"abRJTjZ5f940NqDm\"\n",
    "api_secret = \"iZUizAftYAExBKIFktworjDksAWajsHU\"\n",
    "client = Client(api_key, api_secret)"
   ]
  },
  {
   "cell_type": "code",
   "execution_count": 148,
   "metadata": {},
   "outputs": [],
   "source": [
    "def get_candles(start, end):\n",
    "    url = \"https://api.exchange.coinbase.com\"\n",
    "    sym = \"LINK-USD\"\n",
    "    barSize = \"86400\"\n",
    "    timeStart = start.isoformat()\n",
    "    timeEnd = end.isoformat()\n",
    "    parameters = {\n",
    "        \"start\":timeStart,\n",
    "        \"end\":timeEnd,\n",
    "        \"granularity\":barSize\n",
    "    }\n",
    "\n",
    "    data = requests.get(f\"{url}/products/{sym}/candles\", \n",
    "                        params=parameters, \n",
    "                        headers= {\"accept\": \"application/json\"})\n",
    "    return data\n",
    "\n"
   ]
  },
  {
   "cell_type": "code",
   "execution_count": 149,
   "metadata": {},
   "outputs": [],
   "source": [
    "def kline_to_df(start, end):\n",
    "    kline_data  = eval(get_candles(start,end).text)\n",
    "    headers = [\"timestamp\", \"low\", \"high\", \"open\", \"close\", \"volume\"]\n",
    "    df = pd.DataFrame(data=kline_data, columns=headers)\n",
    "    df[\"timestamp\"] = df[\"timestamp\"].astype(int)\n",
    "    for i in range(len(df[\"timestamp\"])):\n",
    "        df[\"timestamp\"][i] = dt.fromtimestamp(df[\"timestamp\"][i])\n",
    "    df.iloc[:] = df.iloc[::-1].values\n",
    "    return df"
   ]
  },
  {
   "cell_type": "code",
   "execution_count": null,
   "metadata": {},
   "outputs": [],
   "source": [
    "df1 = kline_to_df( dt(2022, 1, 2, 0, 0, 0, 0),dt(2022, 7, 1, 0, 0, 0, 0) )\n",
    "df2 = kline_to_df( dt(2022, 7, 2, 0, 0, 0, 0),dt.now() )\n",
    "df = pd.concat([df1, df2], axis=0)"
   ]
  },
  {
   "cell_type": "code",
   "execution_count": 152,
   "metadata": {},
   "outputs": [],
   "source": [
    "df.to_csv('coinbase_link_hist_data.csv', index=False)"
   ]
  }
 ],
 "metadata": {
  "kernelspec": {
   "display_name": "Python 3.10.0 64-bit",
   "language": "python",
   "name": "python3"
  },
  "language_info": {
   "codemirror_mode": {
    "name": "ipython",
    "version": 3
   },
   "file_extension": ".py",
   "mimetype": "text/x-python",
   "name": "python",
   "nbconvert_exporter": "python",
   "pygments_lexer": "ipython3",
   "version": "3.10.0"
  },
  "orig_nbformat": 4,
  "vscode": {
   "interpreter": {
    "hash": "aee8b7b246df8f9039afb4144a1f6fd8d2ca17a180786b69acc140d282b71a49"
   }
  }
 },
 "nbformat": 4,
 "nbformat_minor": 2
}
