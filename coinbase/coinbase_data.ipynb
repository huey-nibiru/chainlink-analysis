{
 "cells": [
  {
   "cell_type": "code",
   "execution_count": 25,
   "metadata": {},
   "outputs": [],
   "source": [
    "import requests\n",
    "import pandas as pd\n",
    "from os import system\n",
    "from coinbase.wallet.client import Client\n",
    "from datetime import datetime as dt, timedelta"
   ]
  },
  {
   "cell_type": "code",
   "execution_count": 26,
   "metadata": {},
   "outputs": [],
   "source": [
    "api_key = \"your-api-key\"\n",
    "api_secret = \"your-secret-key\"\n",
    "client = Client(api_key, api_secret)"
   ]
  },
  {
   "cell_type": "code",
   "execution_count": 27,
   "metadata": {},
   "outputs": [],
   "source": [
    "def get_candles(sym, start, end):\n",
    "    url = \"https://api.exchange.coinbase.com\"\n",
    "    barSize = \"86400\"\n",
    "    timeStart = start.isoformat()\n",
    "    timeEnd = end.isoformat()\n",
    "    parameters = {\n",
    "        \"start\":timeStart,\n",
    "        \"end\":timeEnd,\n",
    "        \"granularity\":barSize\n",
    "    }\n",
    "    data = requests.get(f\"{url}/products/{sym}/candles\", \n",
    "                        params=parameters, \n",
    "                        headers= {\"accept\": \"application/json\"})\n",
    "    return data"
   ]
  },
  {
   "cell_type": "code",
   "execution_count": 28,
   "metadata": {},
   "outputs": [],
   "source": [
    "def kline_to_df(sym, start, end):\n",
    "    kline_data  = eval(get_candles(sym, start, end).text)\n",
    "    headers = [\"timestamp\", \"low\", \"high\", \"open\", \"close\", \"volume\"]\n",
    "    df = pd.DataFrame(data=kline_data, columns=headers)\n",
    "    df[\"timestamp\"] = df[\"timestamp\"].astype(int)\n",
    "    for i in range(len(df[\"timestamp\"])):\n",
    "        df[\"timestamp\"][i] = dt.fromtimestamp(df[\"timestamp\"][i])\n",
    "    df.iloc[:] = df.iloc[::-1].values\n",
    "    return df"
   ]
  },
  {
   "cell_type": "code",
   "execution_count": 29,
   "metadata": {},
   "outputs": [],
   "source": [
    "def year_df(sym, filename):\n",
    "    df1 = kline_to_df(sym, dt(2022, 1, 2, 0, 0, 0, 0),dt(2022, 7, 1, 0, 0, 0, 0) )\n",
    "    df2 = kline_to_df(sym, dt(2022, 7, 2, 0, 0, 0, 0),dt.now() )\n",
    "    df = pd.concat([df1, df2], axis=0)\n",
    "    df.to_csv(filename, index=False)\n",
    "    return df"
   ]
  },
  {
   "cell_type": "code",
   "execution_count": null,
   "metadata": {},
   "outputs": [],
   "source": [
    "year_df(\"LINK-USD\", \"coinbase_link_hist_data.csv\")\n",
    "year_df(\"ETH-USD\", \"coinbase_eth_hist_data.csv\")\n",
    "year_df(\"BTC-USD\", \"coinbase_btc_hist_data.csv\")"
   ]
  }
 ],
 "metadata": {
  "kernelspec": {
   "display_name": "Python 3.10.0 64-bit",
   "language": "python",
   "name": "python3"
  },
  "language_info": {
   "codemirror_mode": {
    "name": "ipython",
    "version": 3
   },
   "file_extension": ".py",
   "mimetype": "text/x-python",
   "name": "python",
   "nbconvert_exporter": "python",
   "pygments_lexer": "ipython3",
   "version": "3.10.0 (v3.10.0:b494f5935c, Oct  4 2021, 14:59:20) [Clang 12.0.5 (clang-1205.0.22.11)]"
  },
  "orig_nbformat": 4,
  "vscode": {
   "interpreter": {
    "hash": "aee8b7b246df8f9039afb4144a1f6fd8d2ca17a180786b69acc140d282b71a49"
   }
  }
 },
 "nbformat": 4,
 "nbformat_minor": 2
}
